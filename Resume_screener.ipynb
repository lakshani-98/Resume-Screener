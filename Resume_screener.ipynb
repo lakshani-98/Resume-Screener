{
  "nbformat": 4,
  "nbformat_minor": 0,
  "metadata": {
    "colab": {
      "provenance": []
    },
    "kernelspec": {
      "name": "python3",
      "display_name": "Python 3"
    },
    "language_info": {
      "name": "python"
    }
  },
  "cells": [
    {
      "cell_type": "code",
      "execution_count": null,
      "metadata": {
        "id": "oSFJXR6AsiU5"
      },
      "outputs": [],
      "source": [
        "pip install langchain langgraph openai pymupdf"
      ]
    },
    {
      "cell_type": "code",
      "source": [
        "pip install langchain-community"
      ],
      "metadata": {
        "id": "di6TGKkAuOWF"
      },
      "execution_count": null,
      "outputs": []
    },
    {
      "cell_type": "code",
      "source": [
        "import fitz\n",
        "import os\n",
        "import openai\n",
        "from openai import OpenAI\n",
        "from dotenv import load_dotenv\n",
        "import langgraph\n",
        "from langchain.chat_models import ChatOpenAI\n",
        "from langchain.schema import SystemMessage, HumanMessage\n",
        "from langgraph.graph import StateGraph"
      ],
      "metadata": {
        "id": "yoSkjikps2iV"
      },
      "execution_count": 4,
      "outputs": []
    },
    {
      "cell_type": "code",
      "source": [
        "load_dotenv('/content/config.env')\n",
        "\n",
        "openai_api_key = os.getenv(\"OPENAI_API_KEY\")\n",
        "\n",
        "os.environ[\"OPENAI_API_KEY\"] = openai_api_key\n",
        "\n",
        "client = OpenAI(api_key=openai_api_key )"
      ],
      "metadata": {
        "id": "lM5kdkv18bIT"
      },
      "execution_count": 5,
      "outputs": []
    },
    {
      "cell_type": "code",
      "source": [
        "from google.colab import files\n",
        "uploaded = files.upload()"
      ],
      "metadata": {
        "colab": {
          "base_uri": "https://localhost:8080/",
          "height": 73
        },
        "id": "KqLE4s3kvgR_",
        "outputId": "3bd23550-eccc-4212-edab-ce6470d8298d"
      },
      "execution_count": 14,
      "outputs": [
        {
          "output_type": "display_data",
          "data": {
            "text/plain": [
              "<IPython.core.display.HTML object>"
            ],
            "text/html": [
              "\n",
              "     <input type=\"file\" id=\"files-5553d83c-2edf-471c-97e4-bd6b1f035719\" name=\"files[]\" multiple disabled\n",
              "        style=\"border:none\" />\n",
              "     <output id=\"result-5553d83c-2edf-471c-97e4-bd6b1f035719\">\n",
              "      Upload widget is only available when the cell has been executed in the\n",
              "      current browser session. Please rerun this cell to enable.\n",
              "      </output>\n",
              "      <script>// Copyright 2017 Google LLC\n",
              "//\n",
              "// Licensed under the Apache License, Version 2.0 (the \"License\");\n",
              "// you may not use this file except in compliance with the License.\n",
              "// You may obtain a copy of the License at\n",
              "//\n",
              "//      http://www.apache.org/licenses/LICENSE-2.0\n",
              "//\n",
              "// Unless required by applicable law or agreed to in writing, software\n",
              "// distributed under the License is distributed on an \"AS IS\" BASIS,\n",
              "// WITHOUT WARRANTIES OR CONDITIONS OF ANY KIND, either express or implied.\n",
              "// See the License for the specific language governing permissions and\n",
              "// limitations under the License.\n",
              "\n",
              "/**\n",
              " * @fileoverview Helpers for google.colab Python module.\n",
              " */\n",
              "(function(scope) {\n",
              "function span(text, styleAttributes = {}) {\n",
              "  const element = document.createElement('span');\n",
              "  element.textContent = text;\n",
              "  for (const key of Object.keys(styleAttributes)) {\n",
              "    element.style[key] = styleAttributes[key];\n",
              "  }\n",
              "  return element;\n",
              "}\n",
              "\n",
              "// Max number of bytes which will be uploaded at a time.\n",
              "const MAX_PAYLOAD_SIZE = 100 * 1024;\n",
              "\n",
              "function _uploadFiles(inputId, outputId) {\n",
              "  const steps = uploadFilesStep(inputId, outputId);\n",
              "  const outputElement = document.getElementById(outputId);\n",
              "  // Cache steps on the outputElement to make it available for the next call\n",
              "  // to uploadFilesContinue from Python.\n",
              "  outputElement.steps = steps;\n",
              "\n",
              "  return _uploadFilesContinue(outputId);\n",
              "}\n",
              "\n",
              "// This is roughly an async generator (not supported in the browser yet),\n",
              "// where there are multiple asynchronous steps and the Python side is going\n",
              "// to poll for completion of each step.\n",
              "// This uses a Promise to block the python side on completion of each step,\n",
              "// then passes the result of the previous step as the input to the next step.\n",
              "function _uploadFilesContinue(outputId) {\n",
              "  const outputElement = document.getElementById(outputId);\n",
              "  const steps = outputElement.steps;\n",
              "\n",
              "  const next = steps.next(outputElement.lastPromiseValue);\n",
              "  return Promise.resolve(next.value.promise).then((value) => {\n",
              "    // Cache the last promise value to make it available to the next\n",
              "    // step of the generator.\n",
              "    outputElement.lastPromiseValue = value;\n",
              "    return next.value.response;\n",
              "  });\n",
              "}\n",
              "\n",
              "/**\n",
              " * Generator function which is called between each async step of the upload\n",
              " * process.\n",
              " * @param {string} inputId Element ID of the input file picker element.\n",
              " * @param {string} outputId Element ID of the output display.\n",
              " * @return {!Iterable<!Object>} Iterable of next steps.\n",
              " */\n",
              "function* uploadFilesStep(inputId, outputId) {\n",
              "  const inputElement = document.getElementById(inputId);\n",
              "  inputElement.disabled = false;\n",
              "\n",
              "  const outputElement = document.getElementById(outputId);\n",
              "  outputElement.innerHTML = '';\n",
              "\n",
              "  const pickedPromise = new Promise((resolve) => {\n",
              "    inputElement.addEventListener('change', (e) => {\n",
              "      resolve(e.target.files);\n",
              "    });\n",
              "  });\n",
              "\n",
              "  const cancel = document.createElement('button');\n",
              "  inputElement.parentElement.appendChild(cancel);\n",
              "  cancel.textContent = 'Cancel upload';\n",
              "  const cancelPromise = new Promise((resolve) => {\n",
              "    cancel.onclick = () => {\n",
              "      resolve(null);\n",
              "    };\n",
              "  });\n",
              "\n",
              "  // Wait for the user to pick the files.\n",
              "  const files = yield {\n",
              "    promise: Promise.race([pickedPromise, cancelPromise]),\n",
              "    response: {\n",
              "      action: 'starting',\n",
              "    }\n",
              "  };\n",
              "\n",
              "  cancel.remove();\n",
              "\n",
              "  // Disable the input element since further picks are not allowed.\n",
              "  inputElement.disabled = true;\n",
              "\n",
              "  if (!files) {\n",
              "    return {\n",
              "      response: {\n",
              "        action: 'complete',\n",
              "      }\n",
              "    };\n",
              "  }\n",
              "\n",
              "  for (const file of files) {\n",
              "    const li = document.createElement('li');\n",
              "    li.append(span(file.name, {fontWeight: 'bold'}));\n",
              "    li.append(span(\n",
              "        `(${file.type || 'n/a'}) - ${file.size} bytes, ` +\n",
              "        `last modified: ${\n",
              "            file.lastModifiedDate ? file.lastModifiedDate.toLocaleDateString() :\n",
              "                                    'n/a'} - `));\n",
              "    const percent = span('0% done');\n",
              "    li.appendChild(percent);\n",
              "\n",
              "    outputElement.appendChild(li);\n",
              "\n",
              "    const fileDataPromise = new Promise((resolve) => {\n",
              "      const reader = new FileReader();\n",
              "      reader.onload = (e) => {\n",
              "        resolve(e.target.result);\n",
              "      };\n",
              "      reader.readAsArrayBuffer(file);\n",
              "    });\n",
              "    // Wait for the data to be ready.\n",
              "    let fileData = yield {\n",
              "      promise: fileDataPromise,\n",
              "      response: {\n",
              "        action: 'continue',\n",
              "      }\n",
              "    };\n",
              "\n",
              "    // Use a chunked sending to avoid message size limits. See b/62115660.\n",
              "    let position = 0;\n",
              "    do {\n",
              "      const length = Math.min(fileData.byteLength - position, MAX_PAYLOAD_SIZE);\n",
              "      const chunk = new Uint8Array(fileData, position, length);\n",
              "      position += length;\n",
              "\n",
              "      const base64 = btoa(String.fromCharCode.apply(null, chunk));\n",
              "      yield {\n",
              "        response: {\n",
              "          action: 'append',\n",
              "          file: file.name,\n",
              "          data: base64,\n",
              "        },\n",
              "      };\n",
              "\n",
              "      let percentDone = fileData.byteLength === 0 ?\n",
              "          100 :\n",
              "          Math.round((position / fileData.byteLength) * 100);\n",
              "      percent.textContent = `${percentDone}% done`;\n",
              "\n",
              "    } while (position < fileData.byteLength);\n",
              "  }\n",
              "\n",
              "  // All done.\n",
              "  yield {\n",
              "    response: {\n",
              "      action: 'complete',\n",
              "    }\n",
              "  };\n",
              "}\n",
              "\n",
              "scope.google = scope.google || {};\n",
              "scope.google.colab = scope.google.colab || {};\n",
              "scope.google.colab._files = {\n",
              "  _uploadFiles,\n",
              "  _uploadFilesContinue,\n",
              "};\n",
              "})(self);\n",
              "</script> "
            ]
          },
          "metadata": {}
        },
        {
          "output_type": "stream",
          "name": "stdout",
          "text": [
            "Saving Jane_Smith_CV.pdf to Jane_Smith_CV.pdf\n"
          ]
        }
      ]
    },
    {
      "cell_type": "code",
      "source": [
        "# Define Job Requirement\n",
        "JOB_REQUIREMENTS = \"\"\"\n",
        "We are looking for a Software Engineer with:\n",
        "- Strong experience in Python and JavaScript.\n",
        "- Familiarity with Machine Learning and Data Science.\n",
        "- Knowledge of cloud services (AWS, Azure, or GCP).\n",
        "- At least 3 years of experience in software development.\n",
        "\"\"\""
      ],
      "metadata": {
        "id": "pGWcpGLru4sl"
      },
      "execution_count": 7,
      "outputs": []
    },
    {
      "cell_type": "code",
      "source": [
        "# Function to extract text from a PDF\n",
        "def extract_text_from_pdf(pdf_path):\n",
        "    doc = fitz.open(pdf_path)\n",
        "    text = \"\"\n",
        "    for page in doc:\n",
        "        text += page.get_text()\n",
        "    return text"
      ],
      "metadata": {
        "id": "QkZhqKUevBxS"
      },
      "execution_count": 8,
      "outputs": []
    },
    {
      "cell_type": "code",
      "source": [
        "#Function to analyze resume's content and compares it against job requirements\n",
        "def analyze_resume_with_openai(resume_text, job_requirements):\n",
        "    messages = [\n",
        "        {\"role\": \"system\", \"content\": \"You are an AI assistant trained to evaluate resumes for job suitability.\"},\n",
        "        {\"role\": \"system\", \"content\": f\"Job Requirements: {job_requirements}\"},\n",
        "        {\"role\": \"user\", \"content\": f\"Resume Content: {resume_text}\"},\n",
        "        {\"role\": \"system\", \"content\": \"Please evaluate how well the resume matches the job requirements.\"}\n",
        "    ]\n",
        "\n",
        "    response = client.chat.completions.create(\n",
        "        model=\"gpt-4o-mini\",\n",
        "        temperature=1,\n",
        "        messages=messages\n",
        "    )\n",
        "\n",
        "    return response.choices[0].message.content\n"
      ],
      "metadata": {
        "id": "rrrNm1oOA2-J"
      },
      "execution_count": 9,
      "outputs": []
    },
    {
      "cell_type": "code",
      "source": [
        "# Function to classify resume based on analysis\n",
        "def classify_resume_with_openai(analysis):\n",
        "    messages = [\n",
        "        {\"role\": \"system\", \"content\": \"You are an AI assistant trained to classify resumes based on suitability for a job.\"},\n",
        "        {\"role\": \"system\", \"content\": f\"Analysis of Resume: {analysis}\"},\n",
        "        {\"role\": \"system\", \"content\": \"Classify the candidate into one of the following categories: STRONG MATCH: If they meet all key requirements., NEEDS IMPROVEMENT: If they partially meet the requirements., or NOT SUITABLE: If they lack most skills.\"},\n",
        "        {\"role\": \"system\", \"content\": \" Do not include any explanations or additional details; respond with only one of these categories.\"}\n",
        "    ]\n",
        "\n",
        "    response = client.chat.completions.create(\n",
        "        model=\"gpt-4o-mini\",\n",
        "        temperature=1,\n",
        "        messages=messages\n",
        "    )\n",
        "\n",
        "    return response.choices[0].message.content\n"
      ],
      "metadata": {
        "id": "lfmjqluGEitN"
      },
      "execution_count": 10,
      "outputs": []
    },
    {
      "cell_type": "code",
      "source": [
        "from typing import Dict, TypedDict, Optional\n",
        "from langgraph.graph import StateGraph\n",
        "from langchain.chat_models import ChatOpenAI\n",
        "from langchain.schema import SystemMessage\n",
        "\n",
        "# Define the state structure using TypedDict\n",
        "class ResumeState(TypedDict):\n",
        "    resume_text: Optional[str] = None\n",
        "    analysis: Optional[str] = None\n",
        "    classification: Optional[str] = None\n",
        "    job_requirements: Optional[str] = None\n",
        "\n",
        "\n",
        "# Define the Resume Screening Graph\n",
        "graph = StateGraph(ResumeState)\n",
        "\n",
        "# Step 1: Analyze Resume\n",
        "def analyze_resume(state: ResumeState):\n",
        "    print(\"🔹 Analyzing Resume...\")\n",
        "    analysis = analyze_resume_with_openai(state[\"resume_text\"], state[\"job_requirements\"])\n",
        "    return {\"analysis\": analysis}\n",
        "\n",
        "# Step 2: Classify Candidate\n",
        "def classify_resume(state: ResumeState):\n",
        "    print(\"🔹 Classifying Candidate...\")\n",
        "    classification = classify_resume_with_openai(state[\"analysis\"])\n",
        "    return {\"classification\": classification}\n",
        "\n",
        "# Add nodes to the graph\n",
        "graph.add_node(\"analyze_resume\", analyze_resume)\n",
        "graph.add_node(\"classify_resume\", classify_resume)\n",
        "\n",
        "# Define workflow connections (set sequence of operations)\n",
        "graph.add_edge(\"analyze_resume\", \"classify_resume\")\n",
        "\n",
        "# Set the entry point (starting node)\n",
        "graph.set_entry_point(\"analyze_resume\")\n",
        "\n",
        "# Compile the graph to create the application\n",
        "app = graph.compile()\n"
      ],
      "metadata": {
        "id": "13sqdlNY3vNM"
      },
      "execution_count": 11,
      "outputs": []
    },
    {
      "cell_type": "code",
      "source": [
        "# Function to run the resume screening process\n",
        "def screen_resume(pdf_path: str, job_requirements: str)  -> Dict[str, str]:\n",
        "    print(\"🔹 Extracting text from resume PDF...\")\n",
        "    resume_text = extract_text_from_pdf(pdf_path)\n",
        "\n",
        "    initial_state = ResumeState(resume_text=resume_text, job_requirements=job_requirements)\n",
        "    print(f\"🔹 Initial State Created.\")\n",
        "\n",
        "    # Run the graph (invoke the workflow)\n",
        "    final_state = app.invoke(initial_state)\n",
        "\n",
        "    return {\n",
        "        \"Analysis\": final_state[\"analysis\"],\n",
        "        \"Classification\": final_state[\"classification\"],\n",
        "    }"
      ],
      "metadata": {
        "id": "fxazWAUECCmZ"
      },
      "execution_count": 12,
      "outputs": []
    },
    {
      "cell_type": "code",
      "source": [
        "# Example usage: Run the resume screening process\n",
        "if __name__ == \"__main__\":\n",
        "    resume_file = \"/content/Jane_Smith_CV.pdf\"\n",
        "    print(\"🔹 Running Resume Screening on:\")\n",
        "    result = screen_resume(resume_file, JOB_REQUIREMENTS)\n",
        "    print(\"🔹 Resume Analysis:\\n\", result[\"Analysis\"])\n",
        "    print(\"\\n🔹 Candidate Classification:\", result[\"Classification\"])"
      ],
      "metadata": {
        "colab": {
          "base_uri": "https://localhost:8080/"
        },
        "id": "YtIx1joNH4Lf",
        "outputId": "a9b6bc3b-9e71-48d9-ac1a-8a0d35442d05"
      },
      "execution_count": 15,
      "outputs": [
        {
          "output_type": "stream",
          "name": "stdout",
          "text": [
            "🔹 Running Resume Screening on:\n",
            "🔹 Extracting text from resume PDF...\n",
            "🔹 Initial State Created.\n",
            "🔹 Analyzing Resume...\n",
            "🔹 Classifying Candidate...\n",
            "🔹 Resume Analysis:\n",
            " The resume of Jane Smith meets many of the job requirements outlined, and here’s a breakdown of how well her qualifications match:\n",
            "\n",
            "1. **Experience in Python and JavaScript**:\n",
            "   - Jane lists strong experience in Python (specifically with Django) and JavaScript (using Node.js), which aligns well with the requirement for strong experience in both programming languages.\n",
            "\n",
            "2. **Familiarity with Machine Learning and Data Science**:\n",
            "   - While there is no direct mention of Machine Learning or Data Science in the work experience or skills, she has completed a project that involved building an AI-powered chatbot. This suggests some familiarity with AI concepts but does not directly highlight Machine Learning or Data Science experience.\n",
            "\n",
            "3. **Knowledge of Cloud Services (AWS, Azure, or GCP)**:\n",
            "   - Jane has experience with cloud services, as indicated by her knowledge of AWS, Azure, and Google Cloud, and she holds two certifications related to cloud architecture. This requirement is fully met.\n",
            "\n",
            "4. **At least 3 years of experience in software development**:\n",
            "   - Jane has over 5 years of experience in software development, which exceeds the minimum requirement of 3 years. \n",
            "\n",
            "Based on these points, Jane Smith's resume is a good match for the job requirements outlined. However, it would be beneficial for her to explicitly highlight her experience or coursework related to Machine Learning and Data Science to strengthen her candidacy further. Overall, she appears to be a strong contender for the Software Engineer position.\n",
            "\n",
            "🔹 Candidate Classification: NEEDS IMPROVEMENT\n"
          ]
        }
      ]
    }
  ]
}