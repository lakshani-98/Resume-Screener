{
  "cells": [
    {
      "cell_type": "code",
      "execution_count": null,
      "metadata": {
        "id": "oSFJXR6AsiU5"
      },
      "outputs": [],
      "source": [
        "pip install langchain langgraph openai pymupdf"
      ]
    },
    {
      "cell_type": "code",
      "execution_count": null,
      "metadata": {
        "id": "di6TGKkAuOWF"
      },
      "outputs": [],
      "source": [
        "pip install langchain-community"
      ]
    },
    {
      "cell_type": "code",
      "execution_count": 4,
      "metadata": {
        "id": "yoSkjikps2iV"
      },
      "outputs": [],
      "source": [
        "import fitz\n",
        "import os\n",
        "import openai\n",
        "from openai import OpenAI\n",
        "from dotenv import load_dotenv\n",
        "import langgraph\n",
        "from langchain.chat_models import ChatOpenAI\n",
        "from langchain.schema import SystemMessage, HumanMessage\n",
        "from langgraph.graph import StateGraph"
      ]
    },
    {
      "cell_type": "code",
      "execution_count": 5,
      "metadata": {
        "id": "lM5kdkv18bIT"
      },
      "outputs": [],
      "source": [
        "load_dotenv('/content/config.env')\n",
        "\n",
        "openai_api_key = os.getenv(\"OPENAI_API_KEY\")\n",
        "\n",
        "os.environ[\"OPENAI_API_KEY\"] = openai_api_key\n",
        "\n",
        "client = OpenAI(api_key=openai_api_key )"
      ]
    },
    {
      "cell_type": "code",
      "execution_count": null,
      "metadata": {
        "colab": {
          "base_uri": "https://localhost:8080/",
          "height": 73
        },
        "id": "KqLE4s3kvgR_",
        "outputId": "283584f5-2386-4f75-b6a1-fb5c3dd7a663"
      },
      "outputs": [],
      "source": [
        "from google.colab import files\n",
        "uploaded = files.upload()"
      ]
    },
    {
      "cell_type": "code",
      "execution_count": 7,
      "metadata": {
        "id": "pGWcpGLru4sl"
      },
      "outputs": [],
      "source": [
        "# Define Job Requirement\n",
        "JOB_REQUIREMENTS = \"\"\"\n",
        "We are looking for a Software Engineer with:\n",
        "- Strong experience in Python and JavaScript.\n",
        "- Familiarity with Machine Learning and Data Science.\n",
        "- Knowledge of cloud services (AWS, Azure, or GCP).\n",
        "- At least 3 years of experience in software development.\n",
        "\"\"\""
      ]
    },
    {
      "cell_type": "code",
      "execution_count": 8,
      "metadata": {
        "id": "QkZhqKUevBxS"
      },
      "outputs": [],
      "source": [
        "# Function to extract text from a PDF\n",
        "def extract_text_from_pdf(pdf_path):\n",
        "    doc = fitz.open(pdf_path)\n",
        "    text = \"\"\n",
        "    for page in doc:\n",
        "        text += page.get_text()\n",
        "    return text"
      ]
    },
    {
      "cell_type": "code",
      "execution_count": 9,
      "metadata": {
        "id": "rrrNm1oOA2-J"
      },
      "outputs": [],
      "source": [
        "#Function to analyze resume's content and compares it against job requirements\n",
        "def analyze_resume_with_openai(resume_text, job_requirements):\n",
        "    messages = [\n",
        "        {\"role\": \"system\", \"content\": \"You are an AI assistant trained to evaluate resumes for job suitability.\"},\n",
        "        {\"role\": \"system\", \"content\": f\"Job Requirements: {job_requirements}\"},\n",
        "        {\"role\": \"user\", \"content\": f\"Resume Content: {resume_text}\"},\n",
        "        {\"role\": \"system\", \"content\": \"Please evaluate how well the resume matches the job requirements.\"}\n",
        "    ]\n",
        "\n",
        "    response = client.chat.completions.create(\n",
        "        model=\"gpt-4o-mini\",\n",
        "        temperature=1,\n",
        "        messages=messages\n",
        "    )\n",
        "\n",
        "    return response.choices[0].message.content\n"
      ]
    },
    {
      "cell_type": "code",
      "execution_count": 10,
      "metadata": {
        "id": "lfmjqluGEitN"
      },
      "outputs": [],
      "source": [
        "# Function to classify resume based on analysis\n",
        "def classify_resume_with_openai(analysis):\n",
        "    messages = [\n",
        "        {\"role\": \"system\", \"content\": \"You are an AI assistant trained to classify resumes based on suitability for a job.\"},\n",
        "        {\"role\": \"system\", \"content\": f\"Analysis of Resume: {analysis}\"},\n",
        "        {\"role\": \"system\", \"content\": \"Classify the candidate into one of the following categories: STRONG MATCH: If they meet all key requirements., NEEDS IMPROVEMENT: If they partially meet the requirements., or NOT SUITABLE: If they lack most skills.\"},\n",
        "        {\"role\": \"system\", \"content\": \" Do not include any explanations or additional details; respond with only one of these categories.\"}\n",
        "    ]\n",
        "\n",
        "    response = client.chat.completions.create(\n",
        "        model=\"gpt-4o-mini\",\n",
        "        temperature=1,\n",
        "        messages=messages\n",
        "    )\n",
        "\n",
        "    return response.choices[0].message.content\n"
      ]
    },
    {
      "cell_type": "code",
      "execution_count": 11,
      "metadata": {
        "id": "13sqdlNY3vNM"
      },
      "outputs": [],
      "source": [
        "from typing import Dict, TypedDict, Optional\n",
        "from langgraph.graph import StateGraph\n",
        "from langchain.chat_models import ChatOpenAI\n",
        "from langchain.schema import SystemMessage\n",
        "\n",
        "# Define the state structure using TypedDict\n",
        "class ResumeState(TypedDict):\n",
        "    resume_text: Optional[str] = None\n",
        "    analysis: Optional[str] = None\n",
        "    classification: Optional[str] = None\n",
        "    job_requirements: Optional[str] = None\n",
        "\n",
        "\n",
        "# Define the Resume Screening Graph\n",
        "graph = StateGraph(ResumeState)\n",
        "\n",
        "# Step 1: Analyze Resume\n",
        "def analyze_resume(state: ResumeState):\n",
        "    print(\"🔹 Analyzing Resume...\")\n",
        "    analysis = analyze_resume_with_openai(state[\"resume_text\"], state[\"job_requirements\"])\n",
        "    return {\"analysis\": analysis}\n",
        "\n",
        "# Step 2: Classify Candidate\n",
        "def classify_resume(state: ResumeState):\n",
        "    print(\"🔹 Classifying Candidate...\")\n",
        "    classification = classify_resume_with_openai(state[\"analysis\"])\n",
        "    return {\"classification\": classification}\n",
        "\n",
        "# Add nodes to the graph\n",
        "graph.add_node(\"analyze_resume\", analyze_resume)\n",
        "graph.add_node(\"classify_resume\", classify_resume)\n",
        "\n",
        "# Define workflow connections (set sequence of operations)\n",
        "graph.add_edge(\"analyze_resume\", \"classify_resume\")\n",
        "\n",
        "# Set the entry point (starting node)\n",
        "graph.set_entry_point(\"analyze_resume\")\n",
        "\n",
        "# Compile the graph to create the application\n",
        "app = graph.compile()\n"
      ]
    },
    {
      "cell_type": "code",
      "execution_count": 12,
      "metadata": {
        "id": "fxazWAUECCmZ"
      },
      "outputs": [],
      "source": [
        "# Function to run the resume screening process\n",
        "def screen_resume(pdf_path: str, job_requirements: str)  -> Dict[str, str]:\n",
        "    print(\"🔹 Extracting text from resume PDF...\")\n",
        "    resume_text = extract_text_from_pdf(pdf_path)\n",
        "\n",
        "    initial_state = ResumeState(resume_text=resume_text, job_requirements=job_requirements)\n",
        "    print(f\"🔹 Initial State Created.\")\n",
        "\n",
        "    # Run the graph (invoke the workflow)\n",
        "    final_state = app.invoke(initial_state)\n",
        "\n",
        "    return {\n",
        "        \"Analysis\": final_state[\"analysis\"],\n",
        "        \"Classification\": final_state[\"classification\"],\n",
        "    }"
      ]
    },
    {
      "cell_type": "code",
      "execution_count": null,
      "metadata": {
        "colab": {
          "base_uri": "https://localhost:8080/"
        },
        "id": "YtIx1joNH4Lf",
        "outputId": "acefa3bb-e647-437a-eeb0-fcb9f75b5328"
      },
      "outputs": [],
      "source": [
        "# Example usage: Run the resume screening process\n",
        "if __name__ == \"__main__\":\n",
        "    resume_file = \"/content/Lakshani_Galwatta_CV.pdf\"\n",
        "    print(\"🔹 Running Resume Screening on:\")\n",
        "    result = screen_resume(resume_file, JOB_REQUIREMENTS)\n",
        "    print(\"🔹 Resume Analysis:\\n\", result[\"Analysis\"])\n",
        "    print(\"\\n🔹 Candidate Classification:\", result[\"Classification\"])"
      ]
    }
  ],
  "metadata": {
    "colab": {
      "provenance": []
    },
    "kernelspec": {
      "display_name": "Python 3",
      "name": "python3"
    },
    "language_info": {
      "name": "python"
    }
  },
  "nbformat": 4,
  "nbformat_minor": 0
}
